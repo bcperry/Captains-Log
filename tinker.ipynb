{
 "cells": [
  {
   "cell_type": "markdown",
   "metadata": {},
   "source": [
    "Whisper models available here\n",
    "\n",
    "    \"tiny.en\": \"https://openaipublic.azureedge.net/main/whisper/models/d3dd57d32accea0b295c96e26691aa14d8822fac7d9d27d5dc00b4ca2826dd03/tiny.en.pt\",\n",
    "\n",
    "    \"tiny\": \"https://openaipublic.azureedge.net/main/whisper/models/65147644a518d12f04e32d6f3b26facc3f8dd46e5390956a9424a650c0ce22b9/tiny.pt\",\n",
    "\n",
    "    \"base.en\": \"https://openaipublic.azureedge.net/main/whisper/models/25a8566e1d0c1e2231d1c762132cd20e0f96a85d16145c3a00adf5d1ac670ead/base.en.pt\",\n",
    "\n",
    "    \"base\": \"https://openaipublic.azureedge.net/main/whisper/models/ed3a0b6b1c0edf879ad9b11b1af5a0e6ab5db9205f891f668f8b0e6c6326e34e/base.pt\",\n",
    "\n",
    "    \"small.en\": \"https://openaipublic.azureedge.net/main/whisper/models/f953ad0fd29cacd07d5a9eda5624af0f6bcf2258be67c92b79389873d91e0872/small.en.pt\",\n",
    "\n",
    "    \"small\": \"https://openaipublic.azureedge.net/main/whisper/models/9ecf779972d90ba49c06d968637d720dd632c55bbf19d441fb42bf17a411e794/small.pt\",\n",
    "\n",
    "    \"medium.en\": \"https://openaipublic.azureedge.net/main/whisper/models/d7440d1dc186f76616474e0ff0b3b6b879abc9d1a4926b7adfa41db2d497ab4f/medium.en.pt\",\n",
    "\n",
    "    \"medium\": \"https://openaipublic.azureedge.net/main/whisper/models/345ae4da62f9b3d59415adc60127b97c714f32e89e936602e85993674d08dcb1/medium.pt\",\n",
    "\n",
    "    \"large-v1\": \"https://openaipublic.azureedge.net/main/whisper/models/e4b87e7e0bf463eb8e6956e646f1e277e901512310def2c24bf0e11bd3c28e9a/large-v1.pt\",\n",
    "\n",
    "    \"large-v2\": \"https://openaipublic.azureedge.net/main/whisper/models/81f7c96c852ee8fc832187b0132e569d6c3065a3252ed18e56effd0b6a73e524/large-v2.pt\",\n",
    "\n",
    "    \"large-v3\": \"https://openaipublic.azureedge.net/main/whisper/models/e5b1a55b89c1367dacf97e3e19bfd829a01529dbfdeefa8caeb59b3f1b81dadb/large-v3.pt\",\n",
    "    \n",
    "    \"large\": \"https://openaipublic.azureedge.net/main/whisper/models/e5b1a55b89c1367dacf97e3e19bfd829a01529dbfdeefa8caeb59b3f1b81dadb/large-v3.pt\",\n"
   ]
  },
  {
   "cell_type": "code",
   "execution_count": 3,
   "metadata": {},
   "outputs": [
    {
     "name": "stderr",
     "output_type": "stream",
     "text": [
      "c:\\Users\\blain\\Documents\\GitHub\\whisper-speech-to-text\\.venv\\lib\\site-packages\\whisper\\transcribe.py:115: UserWarning: FP16 is not supported on CPU; using FP32 instead\n",
      "  warnings.warn(\"FP16 is not supported on CPU; using FP32 instead\")\n"
     ]
    },
    {
     "name": "stdout",
     "output_type": "stream",
     "text": [
      " Now that we know how to talk on the radio, let's look at how pilots use the radio to interact with ATC. We'll be following two different flights. Ernie, an assess the 172 Skyhawk on his way to a fly-on breakfast at St. Augustine, Florida, and Riddle Air, a major airline flying one of their normal passenger routes to Memphis, Tennessee. Along the way, these two flights will use some very different services from air traffic control, but share the same goal, a safe and organized arrival at their destination. Ernie starts his flight before he even gets to the airport. From the comfort of his home office, he makes a phone call to the flight service station or FSS to talk to a weather briefer about the meteorological conditions along his route of flight. A flight service station, as the name implies, has a variety of resources available to the pilot in the air or on the ground at certain airports. In addition to getting his weather briefing for his flight, Ernie also files something called a flight plan. The purpose of filing a flight plan is to tell the flight service station what time you are leaving, what route you'll be taking to your destination, and how long it should take you to get there. After the pilot takes off, they will call flight service to open or activate their flight plan. After they land at their destination, they'll call flight service again to close their flight plan. If something should happen to the aircraft during the flight and they do not land or close their flight plan on time, flight service will dispatch search and rescue operations. Because of that, it's very important that pilots remember to close their flight plan at the conclusion of their flight, or they may receive a hefty bill in the mail. Now that Ernie has received his briefing and filed his flight plan, he heads to the airport. Here at the Deland airport, there is no control tower. Like many airports across the country, there isn't enough traffic to warrant the construction of a tower. As we've covered in previous lessons, all the pilots flying into and out of the airport will communicate with each other on a common traffic advisory frequency or CTAF. Once his preflight is complete and the engine started, Ernie listens to the automated weather observing station or A.W.A.S.S to determine where the wind is coming from. The land of municipal airport automated weather observation. One, three, four, one, Zulu, weather, wind, calm, visibility, hate, sky condition, clear below one, two, thousand, temperature, three, one, Celsius, two point, two, six, Celsius, and altimeter, three, zero, one, six, remarks, density, altitude, one, thousand, seven, hundred. runway five is preferred runway during low wind conditions. Aircraft landing runway two, three, make it down one leg with a four lane highway. Caution, continuous parachuting operations during daylight hours during the night of flight airport. We only look out for aircraft, possibly utilizing the secondary runway. Since the wind is calm, Ernie decides to use runway five and announces on the CTAF that he is taxiing. The land traffic, SCAH 405, EK, taxiing to runway five via Alpha, Dland. You'll notice that Ernie says the name of the airport, both at the beginning and the end of each radio call. This is because many non-toured airports can share common traffic advisory frequencies, and this helps ensure that the airport name is heard. He listens to the other traffic at the airport and visually checks to determine when it is safe to take off. Once it's his turn, he makes a radio call and begins his take off role. After getting a few miles between himself and the airport, he makes one last radio call on the CTAF to announce that he is clear of the airport area. After leaving the local Dland area, Ernie will then be in class EK airspace. In class EK airspace, there is no need to talk to ATC. What should he do then? First things first, so that Ernie can head towards his destination, he turns to the heading he planned for. After that set, he can open up his VFR flight plan. In order to get in touch with flight service, Ernie needs to find the appropriate frequency. Looking on his sectional chart, he finds in the Earth's FSS frequency and tunes it into his radio. He can then call the flight service station and ask to open his flight plan, advising them of what time he took off. St. Petersburg Radio Skyhawk 405 Ecaromia opening VFR flight plan from Dland to St. Augustine departed 1353 Zulu. With the flight plan opened, Ernie has time to settle into the flight. He doesn't have to talk to ATC just yet, so instead he'll listen to or monitor the guard frequency. This special frequency of 121.5 MHz is set aside specifically for aircraft in distress or experiencing an emergency. Everything is just fine in Ernie's world right now, but if another aircraft has something go wrong, there's a chance he could provide assistance. Today though, everything is going well and the guard frequency is quiet. Along the route, you'd figure Ernie would encounter other aircraft, right? Of course. But sometimes planes can be hard to spot, which is why Ernie has installed a system called ADSB, which stands for Automatic Dependent Surveillance Broadcast. This technology allows him to locate other aircraft long before he'll be able to spot them with his own two eyes. Not every aircraft will be visible on Ernie's display, but as more and more aircraft utilize this technology, the chances of him becoming dangerously close to another plane are diminished, and that's a good thing. Some time goes by and now Ernie is about halfway to his destination. Thinking ahead, he knows that he'll be arriving at the airport at the same time as many other pilots. Since this translates to increased risk of traffic conflicts, he tunes the radio to the nearest air traffic control facility, which in this case is the Jacksonville Air Route Traffic Control Center or JAC Center for short. Centers deal primarily with traffic in the en route stage of their flights. Here at JAC Center, all the different sections of the airspace are divided among separate controller stations. Each station has two specialists. On the left is the radar specialists. They decide where each flight goes and at what altitude. They're the ones that communicate with the pilots and make sure there's enough space or separation between planes. On their screen they can see all the radar targets representing each aircraft. Each target has a data tag attached to it, which includes all the information that the specialist needs to work the aircraft. This includes the aircraft's call sign, altitude, destination and ground speed. To the right of the radar specialist is the radar associate position. They assist the radar specialist by coordinating traffic movements between other parts of the center in addition to other control facilities. Ernie informs center of his position and asks for something called flight following. Jacksonville Center, Skyhawk 405, Vecoromia, 30 miles southwest to St. Augustine, 5,500 feet requests flight following to St. Augustine. Skyhawk 405, Vecoromia, Jacksonville Center. Squawk 4375. In this exchange, Jack Center and Ernie have shared some important setup information to start flight following. Jack Center gave Ernie a code to enter into his transponder and Ernie told Jack Center where to look on his radar scope for the transponder code. Once the controller locates Ernie's target, he says, Skyhawk 405, Vecoromia radar contact, 2-0 miles southeast of 2-8 Juliet. Jacksonville, Altimeter, 29 or 9 or 6. The controller has officially informed Ernie that his aircraft is located on the radar. Now flight following begins. What is flight following anyway? In the most literal sense, think of a controller following an aircraft on the radar scope. When they do this, advisories on nearby traffic and directions to an airport can be provided, amongst other things. Skyhawk 405, Vecoromia, traffic 2 o'clock, 5 miles, a southbound Boeing 737 at 5,000 in report traffic and sight. Ernie looks out the window ahead into his right, spots the other aircraft and reports to ATC that he has it in sight. With flight following, Ernie has the added advantage of another set of eyes on the lookout, so to speak. However, even though these services are beneficial, Ernie must still vigilantly look for nearby aircraft that could pose a hazard. Ernie is still on his own when it comes to navigating to the airport, however, if he should become disoriented or lost, he could simply ask ATC for direction since he's already talking to them. Some more time passes and Ernie is ready to start his descent into St. Augustine. He tells Jack center his intention and he gets the okay to start descending. Ever closer to the destination, Ernie tunes another radio to the automated terminal information service known as the ADIS at St. Augustine. This looping recording of current weather and important airport information gives Ernie the details he needs to stay ahead of the airplane and anticipate which runway he'll be landing on, and if there's anything out of the ordinary about his arrival. The weather sounds good and there's nothing noteworthy about the airport conditions today. So Ernie plans to make a normal arrival and landing on runway 13. Since St. Augustine is a class Delta Tower Airport, Ernie will need to talk to the control tower before entering their airspace. Jack center gives him an instruction to change to the tower's frequency before he enters the tower's airspace. The first call to the tower sounds similar to the one to center. St. Augustine tower sky at 405 Echaromio, 6 miles southwest, 2,000 feet inbound full stop with information bravo. The controller and the tower will look out the window to the southwest to try and locate Ernie's plane. The Jack center controller had to locate the plane using a radar scope, but the tower controller only has windows to look out of. That's okay though because the tower is only responsible for aircraft that are within the 5 miles or so of the airport. Jack center on the other hand works traffic over thousands of square miles. He reads back the instruction and alters his course slightly. When he is parallel to the runway, the tower issues him the clearance he needs to land. He responds. Having safely arrived at the airport, Ernie is not quite finished with ATC yet. In addition to the airspace around the airport being controlled, the taxiways are controlled as well. For that he makes another frequency change and talks to a different person in the tower, ground control. The ground controller will issue him some taxi instructions to get him to his preferred parking spot. When he writes down and reads back the instruction, consults his airport diagram to figure out where he is going and then starts to taxi. He arrives at the FBO and ties down the aircraft. Even though the flight is over, Ernie still has one last task to complete. He heads inside and gives flight service a call to close his flight plan. The flight we just saw is representative of a lot of general aviation traffic. The pilot elected to use ATC services as he saw fit. He could have been talking to air traffic control the entire flight or just a few miles. A healthy balance based on the needs of the mission is the goal.\n"
     ]
    }
   ],
   "source": [
    "import whisper\n",
    "import pandas as pd\n",
    "\n",
    "model = whisper.load_model(\"model/base.en.pt\")\n",
    "result = model.transcribe(\"data/comms.mp4\")\n",
    "print(result[\"text\"])"
   ]
  },
  {
   "cell_type": "code",
   "execution_count": 14,
   "metadata": {},
   "outputs": [],
   "source": [
    "transcript_df = pd.DataFrame(result['segments'])\n",
    "transcript_df = transcript_df[['start', 'end', 'text']]"
   ]
  },
  {
   "cell_type": "code",
   "execution_count": 15,
   "metadata": {},
   "outputs": [
    {
     "data": {
      "text/html": [
       "<div>\n",
       "<style scoped>\n",
       "    .dataframe tbody tr th:only-of-type {\n",
       "        vertical-align: middle;\n",
       "    }\n",
       "\n",
       "    .dataframe tbody tr th {\n",
       "        vertical-align: top;\n",
       "    }\n",
       "\n",
       "    .dataframe thead th {\n",
       "        text-align: right;\n",
       "    }\n",
       "</style>\n",
       "<table border=\"1\" class=\"dataframe\">\n",
       "  <thead>\n",
       "    <tr style=\"text-align: right;\">\n",
       "      <th></th>\n",
       "      <th>start</th>\n",
       "      <th>end</th>\n",
       "      <th>text</th>\n",
       "    </tr>\n",
       "  </thead>\n",
       "  <tbody>\n",
       "    <tr>\n",
       "      <th>0</th>\n",
       "      <td>0.00</td>\n",
       "      <td>4.48</td>\n",
       "      <td>Now that we know how to talk on the radio, le...</td>\n",
       "    </tr>\n",
       "    <tr>\n",
       "      <th>1</th>\n",
       "      <td>4.48</td>\n",
       "      <td>6.56</td>\n",
       "      <td>interact with ATC.</td>\n",
       "    </tr>\n",
       "    <tr>\n",
       "      <th>2</th>\n",
       "      <td>6.56</td>\n",
       "      <td>8.64</td>\n",
       "      <td>We'll be following two different flights.</td>\n",
       "    </tr>\n",
       "    <tr>\n",
       "      <th>3</th>\n",
       "      <td>8.64</td>\n",
       "      <td>14.72</td>\n",
       "      <td>Ernie, an assess the 172 Skyhawk on his way t...</td>\n",
       "    </tr>\n",
       "    <tr>\n",
       "      <th>4</th>\n",
       "      <td>14.72</td>\n",
       "      <td>18.96</td>\n",
       "      <td>and Riddle Air, a major airline flying one of...</td>\n",
       "    </tr>\n",
       "  </tbody>\n",
       "</table>\n",
       "</div>"
      ],
      "text/plain": [
       "   start    end                                               text\n",
       "0   0.00   4.48   Now that we know how to talk on the radio, le...\n",
       "1   4.48   6.56                                 interact with ATC.\n",
       "2   6.56   8.64          We'll be following two different flights.\n",
       "3   8.64  14.72   Ernie, an assess the 172 Skyhawk on his way t...\n",
       "4  14.72  18.96   and Riddle Air, a major airline flying one of..."
      ]
     },
     "execution_count": 15,
     "metadata": {},
     "output_type": "execute_result"
    }
   ],
   "source": [
    "transcript_df.head()"
   ]
  },
  {
   "cell_type": "code",
   "execution_count": null,
   "metadata": {},
   "outputs": [],
   "source": []
  }
 ],
 "metadata": {
  "kernelspec": {
   "display_name": ".venv",
   "language": "python",
   "name": "python3"
  },
  "language_info": {
   "codemirror_mode": {
    "name": "ipython",
    "version": 3
   },
   "file_extension": ".py",
   "mimetype": "text/x-python",
   "name": "python",
   "nbconvert_exporter": "python",
   "pygments_lexer": "ipython3",
   "version": "3.10.9"
  }
 },
 "nbformat": 4,
 "nbformat_minor": 2
}
