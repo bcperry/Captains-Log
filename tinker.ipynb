{
 "cells": [
  {
   "cell_type": "markdown",
   "metadata": {},
   "source": [
    "Whisper models available here\n",
    "\n",
    "    \"tiny.en\": \"https://openaipublic.azureedge.net/main/whisper/models/d3dd57d32accea0b295c96e26691aa14d8822fac7d9d27d5dc00b4ca2826dd03/tiny.en.pt\",\n",
    "\n",
    "    \"tiny\": \"https://openaipublic.azureedge.net/main/whisper/models/65147644a518d12f04e32d6f3b26facc3f8dd46e5390956a9424a650c0ce22b9/tiny.pt\",\n",
    "\n",
    "    \"base.en\": \"https://openaipublic.azureedge.net/main/whisper/models/25a8566e1d0c1e2231d1c762132cd20e0f96a85d16145c3a00adf5d1ac670ead/base.en.pt\",\n",
    "\n",
    "    \"base\": \"https://openaipublic.azureedge.net/main/whisper/models/ed3a0b6b1c0edf879ad9b11b1af5a0e6ab5db9205f891f668f8b0e6c6326e34e/base.pt\",\n",
    "\n",
    "    \"small.en\": \"https://openaipublic.azureedge.net/main/whisper/models/f953ad0fd29cacd07d5a9eda5624af0f6bcf2258be67c92b79389873d91e0872/small.en.pt\",\n",
    "\n",
    "    \"small\": \"https://openaipublic.azureedge.net/main/whisper/models/9ecf779972d90ba49c06d968637d720dd632c55bbf19d441fb42bf17a411e794/small.pt\",\n",
    "\n",
    "    \"medium.en\": \"https://openaipublic.azureedge.net/main/whisper/models/d7440d1dc186f76616474e0ff0b3b6b879abc9d1a4926b7adfa41db2d497ab4f/medium.en.pt\",\n",
    "\n",
    "    \"medium\": \"https://openaipublic.azureedge.net/main/whisper/models/345ae4da62f9b3d59415adc60127b97c714f32e89e936602e85993674d08dcb1/medium.pt\",\n",
    "\n",
    "    \"large-v1\": \"https://openaipublic.azureedge.net/main/whisper/models/e4b87e7e0bf463eb8e6956e646f1e277e901512310def2c24bf0e11bd3c28e9a/large-v1.pt\",\n",
    "\n",
    "    \"large-v2\": \"https://openaipublic.azureedge.net/main/whisper/models/81f7c96c852ee8fc832187b0132e569d6c3065a3252ed18e56effd0b6a73e524/large-v2.pt\",\n",
    "\n",
    "    \"large-v3\": \"https://openaipublic.azureedge.net/main/whisper/models/e5b1a55b89c1367dacf97e3e19bfd829a01529dbfdeefa8caeb59b3f1b81dadb/large-v3.pt\",\n",
    "    \n",
    "    \"large\": \"https://openaipublic.azureedge.net/main/whisper/models/e5b1a55b89c1367dacf97e3e19bfd829a01529dbfdeefa8caeb59b3f1b81dadb/large-v3.pt\",\n"
   ]
  },
  {
   "cell_type": "code",
   "execution_count": 3,
   "metadata": {},
   "outputs": [
    {
     "name": "stderr",
     "output_type": "stream",
     "text": [
      "100%|█████████████████████████████████████| 2.88G/2.88G [02:21<00:00, 21.9MiB/s]\n"
     ]
    }
   ],
   "source": [
    "import whisper\n",
    "import pandas as pd\n",
    "\n",
    "# model = whisper.load_model(\"model/large-v3.pt\")\n",
    "model = whisper.load_model(\"large-v3\")\n"
   ]
  },
  {
   "cell_type": "markdown",
   "metadata": {},
   "source": [
    "# Results and time when using GPU acceleration"
   ]
  },
  {
   "cell_type": "code",
   "execution_count": 4,
   "metadata": {},
   "outputs": [
    {
     "name": "stdout",
     "output_type": "stream",
     "text": [
      " 24328E, good afternoon, what's your sign code? Yes, do you have a transponder code? If not, squawk 0201. Foxtrot's current flow is restricted, the altimeter is 3044, report ghost. Think I can make it in between there? Nope. Oh, you have a little faith. Look how big that is. Oh, shit. Come on, baby, come on, get it under control. I've got it, I've got it, I've got it. Eagle, 974, down at bagel. Get it off the ground. 974, roger, can you give me this nice second?\n"
     ]
    }
   ],
   "source": [
    "# large model gpu inference\n",
    "result = model.transcribe(\"data/apache.mp4\")\n",
    "print(result[\"text\"])"
   ]
  },
  {
   "cell_type": "code",
   "execution_count": 2,
   "metadata": {},
   "outputs": [
    {
     "name": "stdout",
     "output_type": "stream",
     "text": [
      " 2-4-3-2-8, good afternoon, what's your sign code? Yes, do you have a transponder code? If not, squawk 0201. Foxtrot's current for the restricted area of the altimeter is 3044, we'll report ghost. Is that guy making a between there? Nope. Oh ye of a little faith, look how big that is. Oh shit! Get it off me! Come on, get it under control, get it out! I've got it, I've got it, I've got it. Get it off me! Get it off me! I-7-4, down and bagel. Get it off the ground. I-7-4, roger, can you give me this?\n"
     ]
    }
   ],
   "source": [
    "# medium model gpu inference\n",
    "# result = model.transcribe(\"data/apache.mp4\")\n",
    "# print(result[\"text\"])"
   ]
  },
  {
   "cell_type": "code",
   "execution_count": null,
   "metadata": {},
   "outputs": [],
   "source": []
  },
  {
   "cell_type": "markdown",
   "metadata": {},
   "source": [
    "# Results and time when running cpu"
   ]
  },
  {
   "cell_type": "code",
   "execution_count": 3,
   "metadata": {},
   "outputs": [
    {
     "name": "stdout",
     "output_type": "stream",
     "text": [
      " 2-4-3-2-8, good afternoon, what's your sign code? Yes, do you have a transponder code? If not, squawk 0201. Foxtrot's current for the restricted area of the altimeter is 3044, we'll report ghost. Is that guy making a between there? Nope. Oh ye of a little faith, look how big that is. Oh shit! Get it off me! Come on, get it under control, get it out! I've got it, I've got it, I've got it. Get it off me! Get it off me! I-7-4, down and bagel. Get it off the ground. I-7-4, roger, can you give me this?\n"
     ]
    }
   ],
   "source": [
    "# medium model cpu inference\n",
    "# result = model.transcribe(\"data/apache.mp4\")\n",
    "# print(result[\"text\"])"
   ]
  },
  {
   "cell_type": "code",
   "execution_count": null,
   "metadata": {},
   "outputs": [],
   "source": [
    "transcript_df = pd.DataFrame(result['segments'])\n",
    "transcript_df = transcript_df[['start', 'end', 'text']]"
   ]
  },
  {
   "cell_type": "code",
   "execution_count": null,
   "metadata": {},
   "outputs": [
    {
     "data": {
      "text/html": [
       "<div>\n",
       "<style scoped>\n",
       "    .dataframe tbody tr th:only-of-type {\n",
       "        vertical-align: middle;\n",
       "    }\n",
       "\n",
       "    .dataframe tbody tr th {\n",
       "        vertical-align: top;\n",
       "    }\n",
       "\n",
       "    .dataframe thead th {\n",
       "        text-align: right;\n",
       "    }\n",
       "</style>\n",
       "<table border=\"1\" class=\"dataframe\">\n",
       "  <thead>\n",
       "    <tr style=\"text-align: right;\">\n",
       "      <th></th>\n",
       "      <th>start</th>\n",
       "      <th>end</th>\n",
       "      <th>text</th>\n",
       "    </tr>\n",
       "  </thead>\n",
       "  <tbody>\n",
       "    <tr>\n",
       "      <th>0</th>\n",
       "      <td>0.0</td>\n",
       "      <td>7.0</td>\n",
       "      <td>2-4-3-2-8, good afternoon, what's your sign c...</td>\n",
       "    </tr>\n",
       "    <tr>\n",
       "      <th>1</th>\n",
       "      <td>7.0</td>\n",
       "      <td>14.0</td>\n",
       "      <td>Yes, do you have a transponder code? If not, ...</td>\n",
       "    </tr>\n",
       "    <tr>\n",
       "      <th>2</th>\n",
       "      <td>14.0</td>\n",
       "      <td>19.0</td>\n",
       "      <td>Foxtrot's current for the restricted area of ...</td>\n",
       "    </tr>\n",
       "    <tr>\n",
       "      <th>3</th>\n",
       "      <td>19.0</td>\n",
       "      <td>21.0</td>\n",
       "      <td>Is that guy making a between there?</td>\n",
       "    </tr>\n",
       "    <tr>\n",
       "      <th>4</th>\n",
       "      <td>21.0</td>\n",
       "      <td>22.0</td>\n",
       "      <td>Nope.</td>\n",
       "    </tr>\n",
       "  </tbody>\n",
       "</table>\n",
       "</div>"
      ],
      "text/plain": [
       "   start   end                                               text\n",
       "0    0.0   7.0   2-4-3-2-8, good afternoon, what's your sign c...\n",
       "1    7.0  14.0   Yes, do you have a transponder code? If not, ...\n",
       "2   14.0  19.0   Foxtrot's current for the restricted area of ...\n",
       "3   19.0  21.0                Is that guy making a between there?\n",
       "4   21.0  22.0                                              Nope."
      ]
     },
     "execution_count": 4,
     "metadata": {},
     "output_type": "execute_result"
    }
   ],
   "source": [
    "transcript_df.head()"
   ]
  },
  {
   "cell_type": "code",
   "execution_count": null,
   "metadata": {},
   "outputs": [],
   "source": []
  }
 ],
 "metadata": {
  "kernelspec": {
   "display_name": ".venv",
   "language": "python",
   "name": "python3"
  },
  "language_info": {
   "codemirror_mode": {
    "name": "ipython",
    "version": 3
   },
   "file_extension": ".py",
   "mimetype": "text/x-python",
   "name": "python",
   "nbconvert_exporter": "python",
   "pygments_lexer": "ipython3",
   "version": "3.10.9"
  }
 },
 "nbformat": 4,
 "nbformat_minor": 2
}
